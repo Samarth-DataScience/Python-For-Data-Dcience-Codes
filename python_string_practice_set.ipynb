{
  "nbformat": 4,
  "nbformat_minor": 0,
  "metadata": {
    "colab": {
      "provenance": [],
      "authorship_tag": "ABX9TyMZpnoT/Chr0nz9GzspvTs9",
      "include_colab_link": true
    },
    "kernelspec": {
      "name": "python3",
      "display_name": "Python 3"
    },
    "language_info": {
      "name": "python"
    }
  },
  "cells": [
    {
      "cell_type": "markdown",
      "metadata": {
        "id": "view-in-github",
        "colab_type": "text"
      },
      "source": [
        "<a href=\"https://colab.research.google.com/github/Samarth-DataScience/python-for-data-science/blob/main/python_string_practice_set.ipynb\" target=\"_parent\"><img src=\"https://colab.research.google.com/assets/colab-badge.svg\" alt=\"Open In Colab\"/></a>"
      ]
    },
    {
      "cell_type": "markdown",
      "source": [
        "Certainly! Here are 30 programming questions that cover various topics related to strings in Python:\n",
        "\n",
        "**Basic String Manipulation:**\n",
        "\n",
        "1. Write a Python program to concatenate two strings.\n",
        "2. Create a function to find the length of a string.\n",
        "3. Write a program to count the number of spaces in a string.\n",
        "4. Implement a function to remove leading and trailing spaces from a string.\n",
        "5. Write a Python program to convert a string to lowercase.\n",
        "6. Create a function to check if a string contains only alphabetic characters.\n",
        "7. Write a program to reverse a string using slicing.\n",
        "8. Implement a function to check if a string contains a specific substring.\n",
        "9. Write a Python program to swap the case of characters in a string.\n",
        "10. Create a function to capitalize the first letter of a string.\n",
        "\n",
        "**Advanced String Manipulation:**\n",
        "\n",
        "11. Write a program to check if a string is a palindrome (reads the same forwards and backward).\n",
        "12. Implement a function to check if two strings are anagrams of each other.\n",
        "13. Create a program to count the occurrences of a specific character in a string.\n",
        "14. Write a Python program to find the longest word in a sentence.\n",
        "15. Implement a function to truncate a string to a specified length and add \"...\" if it's longer.\n",
        "16. Create a function to replace all occurrences of a specific character in a string.\n",
        "17. Write a program to find the first non-repeated character in a string.\n",
        "18. Implement a function to reverse words in a sentence.\n",
        "19. Write a Python program to check if a string is a valid email address.\n",
        "20. Create a function to check if a string contains only numeric characters.\n",
        "\n",
        "**String Formatting:**\n",
        "\n",
        "21. Write a program to format a string with placeholders.\n",
        "22. Implement a function to format a string as a currency (e.g., add commas and currency symbol).\n",
        "23. Create a function to convert a string to a list of words.\n",
        "24. Write a Python program to extract all email addresses from a given text.\n",
        "25. Implement a function to extract URLs from a string.\n",
        "26. Create a program to replace newlines in a string with spaces.\n",
        "27. Write a Python program to remove HTML tags from a string.\n",
        "28. Implement a function to split a string into sentences.\n",
        "29. Create a function to remove all punctuation from a string.\n",
        "30. Write a program to find the most common word in a text.\n",
        "\n",
        "These questions cover a wide range of string manipulation and formatting topics in Python, providing a comprehensive practice for string-related programming skills."
      ],
      "metadata": {
        "id": "ZoxkCiui2ax9"
      }
    },
    {
      "cell_type": "code",
      "source": [],
      "metadata": {
        "id": "VwUnajGz2cu9"
      },
      "execution_count": null,
      "outputs": []
    }
  ]
}