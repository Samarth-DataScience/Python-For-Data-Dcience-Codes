{
  "nbformat": 4,
  "nbformat_minor": 0,
  "metadata": {
    "colab": {
      "provenance": []
    },
    "kernelspec": {
      "name": "python3",
      "display_name": "Python 3"
    },
    "language_info": {
      "name": "python"
    }
  },
  "cells": [
    {
      "cell_type": "code",
      "execution_count": null,
      "metadata": {
        "id": "owGcSC3M9CGq"
      },
      "outputs": [],
      "source": [
        "#"
      ]
    },
    {
      "cell_type": "markdown",
      "source": [],
      "metadata": {
        "id": "w3-APq3rWa0R"
      }
    },
    {
      "cell_type": "markdown",
      "source": [
        "Find the sum of 3 digit number entered by the user"
      ],
      "metadata": {
        "id": "BZk5V4ws9NRm"
      }
    },
    {
      "cell_type": "code",
      "source": [
        "number = int(input('Enter the 3 digit number: '))\n",
        "a = number % 10\n",
        "number = number // 10\n",
        "b = number % 10\n",
        "number = number // 10\n",
        "c = number % 10\n",
        "\n",
        "print('The value of 3 digit number is: ',(a+b+c))"
      ],
      "metadata": {
        "colab": {
          "base_uri": "https://localhost:8080/"
        },
        "id": "MaQsAOum9e2G",
        "outputId": "858b8efe-a8f2-49cc-b9a7-b13da2c2d3ff"
      },
      "execution_count": null,
      "outputs": [
        {
          "output_type": "stream",
          "name": "stdout",
          "text": [
            "Enter the 3 digit number: 458\n",
            "The value of 3 digit number is:  17\n"
          ]
        }
      ]
    },
    {
      "cell_type": "markdown",
      "source": [
        "Find the min of 3 numbers"
      ],
      "metadata": {
        "id": "04ilpEyhBAh8"
      }
    },
    {
      "cell_type": "code",
      "source": [
        "num1 = 10\n",
        "num2 = 10\n",
        "num3 = 10\n",
        "\n",
        "if num1 < num2 and num1 < num3:\n",
        "  print('num1')\n",
        "elif num2 < num1 and num2 < num3:\n",
        "  print('num2')\n",
        "elif num3 < num1 and num3 < num2:\n",
        "  print('num3')\n",
        "else:\n",
        "  print('all numbers are same')"
      ],
      "metadata": {
        "colab": {
          "base_uri": "https://localhost:8080/"
        },
        "id": "0ZJN8yPZBEA5",
        "outputId": "95d18f68-aafc-4a82-e820-02e2c9b34f17"
      },
      "execution_count": null,
      "outputs": [
        {
          "output_type": "stream",
          "name": "stdout",
          "text": [
            "all numbers are same\n"
          ]
        }
      ]
    },
    {
      "cell_type": "markdown",
      "source": [
        "modules in python"
      ],
      "metadata": {
        "id": "ZLrZ_lLPCkjL"
      }
    },
    {
      "cell_type": "code",
      "source": [
        "import math\n",
        "math.sqrt(9)"
      ],
      "metadata": {
        "colab": {
          "base_uri": "https://localhost:8080/"
        },
        "id": "3BedU-kRCnN6",
        "outputId": "730a1ecf-ce1b-4a6a-c213-9cd259dcdef3"
      },
      "execution_count": null,
      "outputs": [
        {
          "output_type": "execute_result",
          "data": {
            "text/plain": [
              "3.0"
            ]
          },
          "metadata": {},
          "execution_count": 13
        }
      ]
    },
    {
      "cell_type": "code",
      "source": [
        "import keyword\n",
        "print(keyword.kwlist)\n",
        "print(keyword.kwlist.count)"
      ],
      "metadata": {
        "colab": {
          "base_uri": "https://localhost:8080/"
        },
        "id": "_RFisU7TC4Ht",
        "outputId": "cf600690-e2c6-4768-92c5-1ec80f77ce3a"
      },
      "execution_count": null,
      "outputs": [
        {
          "output_type": "stream",
          "name": "stdout",
          "text": [
            "['False', 'None', 'True', 'and', 'as', 'assert', 'async', 'await', 'break', 'class', 'continue', 'def', 'del', 'elif', 'else', 'except', 'finally', 'for', 'from', 'global', 'if', 'import', 'in', 'is', 'lambda', 'nonlocal', 'not', 'or', 'pass', 'raise', 'return', 'try', 'while', 'with', 'yield']\n",
            "<built-in method count of list object at 0x7f06d69625c0>\n"
          ]
        }
      ]
    },
    {
      "cell_type": "code",
      "source": [
        "import datetime\n",
        "help('modules')"
      ],
      "metadata": {
        "colab": {
          "base_uri": "https://localhost:8080/"
        },
        "id": "lid7XfVdWi7A",
        "outputId": "dbe5ecea-f4b5-4cfc-e6e1-e3ae294ca1bb"
      },
      "execution_count": null,
      "outputs": [
        {
          "output_type": "stream",
          "name": "stdout",
          "text": [
            "\n",
            "Please wait a moment while I gather a list of all available modules...\n",
            "\n"
          ]
        },
        {
          "output_type": "stream",
          "name": "stderr",
          "text": [
            "/usr/local/lib/python3.10/dist-packages/IPython/kernel/__init__.py:12: ShimWarning: The `IPython.kernel` package has been deprecated since IPython 4.0.You should import from ipykernel or jupyter_client instead.\n",
            "  warn(\"The `IPython.kernel` package has been deprecated since IPython 4.0.\"\n",
            "/usr/local/lib/python3.10/dist-packages/altair/vega/v5/__init__.py:18: AltairDeprecationWarning: The module altair.vega.v5 is deprecated and will be removed in Altair 5.\n",
            "  warnings.warn(\n",
            "/usr/local/lib/python3.10/dist-packages/altair/vegalite/v3/__init__.py:29: AltairDeprecationWarning: The module altair.vegalite.v3 is deprecated and will be removed in Altair 5. Use `import altair as alt` instead of `import altair.vegalite.v3 as alt`.\n",
            "  warnings.warn(\n",
            "/usr/local/lib/python3.10/dist-packages/jupyter_client/ssh/tunnel.py:57: DeprecationWarning:\n",
            "\n",
            "zmq.utils.strtypes is deprecated in pyzmq 23.\n",
            "\n",
            "/usr/local/lib/python3.10/dist-packages/llvmlite/llvmpy/__init__.py:3: UserWarning:\n",
            "\n",
            "The module `llvmlite.llvmpy` is deprecated and will be removed in the future.\n",
            "\n"
          ]
        },
        {
          "output_type": "stream",
          "name": "stdout",
          "text": [
            "Downloading http://dlib.net/files/shape_predictor_68_face_landmarks.dat.bz2 to /root/mlxtend_data/shape_predictor_68_face_landmarks.dat.bz2\n"
          ]
        },
        {
          "output_type": "stream",
          "name": "stderr",
          "text": [
            "/usr/local/lib/python3.10/dist-packages/moviepy/video/fx/painting.py:7: DeprecationWarning:\n",
            "\n",
            "Please use `sobel` from the `scipy.ndimage` namespace, the `scipy.ndimage.filters` namespace is deprecated.\n",
            "\n",
            "/usr/local/lib/python3.10/dist-packages/nibabel/pkg_info.py:73: DeprecationWarning:\n",
            "\n",
            "distutils Version classes are deprecated. Use packaging.version instead.\n",
            "\n",
            "/usr/local/lib/python3.10/dist-packages/nibabel/quaternions.py:31: DeprecationWarning:\n",
            "\n",
            "`np.float` is a deprecated alias for the builtin `float`. To silence this warning, use `float` by itself. Doing this will not modify any behavior and is safe. If you specifically wanted the numpy scalar type, use `np.float64` here.\n",
            "Deprecated in NumPy 1.20; for more details and guidance: https://numpy.org/devdocs/release/1.20.0-notes.html#deprecations\n",
            "\n",
            "/usr/lib/python3.10/pkgutil.py:92: UserWarning:\n",
            "\n",
            "The DICOM readers are highly experimental, unstable, and only work for Siemens time-series at the moment\n",
            "Please use with caution.  We would be grateful for your help in improving them\n",
            "\n",
            "/usr/local/lib/python3.10/dist-packages/nltk/twitter/__init__.py:20: UserWarning:\n",
            "\n",
            "The twython library has not been installed. Some functionality from the twitter package will not be available.\n",
            "\n",
            "/usr/local/lib/python3.10/dist-packages/notebook/utils.py:280: DeprecationWarning:\n",
            "\n",
            "distutils Version classes are deprecated. Use packaging.version instead.\n",
            "\n",
            "/usr/local/lib/python3.10/dist-packages/setuptools/_distutils/msvccompiler.py:66: DeprecationWarning:\n",
            "\n",
            "msvccompiler is deprecated and slated to be removed in the future. Please discontinue use or file an issue with pypa/distutils describing your use case.\n",
            "\n",
            "/usr/lib/python3.10/pkgutil.py:92: UserWarning:\n",
            "\n",
            "The numpy.array_api submodule is still experimental. See NEP 47.\n",
            "\n",
            "/usr/local/lib/python3.10/dist-packages/matplotlib_inline/config.py:68: DeprecationWarning:\n",
            "\n",
            "InlineBackend._figure_format_changed is deprecated in traitlets 4.1: use @observe and @unobserve instead.\n",
            "\n",
            "/usr/local/lib/python3.10/dist-packages/pandas_datareader/compat/__init__.py:11: DeprecationWarning:\n",
            "\n",
            "distutils Version classes are deprecated. Use packaging.version instead.\n",
            "\n",
            "/usr/local/lib/python3.10/dist-packages/pip/_vendor/pkg_resources/__init__.py:121: DeprecationWarning:\n",
            "\n",
            "pkg_resources is deprecated as an API\n",
            "\n",
            "/usr/local/lib/python3.10/dist-packages/pip/_vendor/pkg_resources/__init__.py:2870: DeprecationWarning:\n",
            "\n",
            "Deprecated call to `pkg_resources.declare_namespace('google')`.\n",
            "Implementing implicit namespace packages (as specified in PEP 420) is preferred to `pkg_resources.declare_namespace`. See https://setuptools.pypa.io/en/latest/references/keywords.html#keyword-namespace-packages\n",
            "\n",
            "/usr/local/lib/python3.10/dist-packages/pip/_vendor/pkg_resources/__init__.py:2870: DeprecationWarning:\n",
            "\n",
            "Deprecated call to `pkg_resources.declare_namespace('google.cloud')`.\n",
            "Implementing implicit namespace packages (as specified in PEP 420) is preferred to `pkg_resources.declare_namespace`. See https://setuptools.pypa.io/en/latest/references/keywords.html#keyword-namespace-packages\n",
            "\n",
            "/usr/local/lib/python3.10/dist-packages/pip/_vendor/pkg_resources/__init__.py:2870: DeprecationWarning:\n",
            "\n",
            "Deprecated call to `pkg_resources.declare_namespace('google.logging')`.\n",
            "Implementing implicit namespace packages (as specified in PEP 420) is preferred to `pkg_resources.declare_namespace`. See https://setuptools.pypa.io/en/latest/references/keywords.html#keyword-namespace-packages\n",
            "\n",
            "/usr/local/lib/python3.10/dist-packages/pip/_vendor/pkg_resources/__init__.py:2870: DeprecationWarning:\n",
            "\n",
            "Deprecated call to `pkg_resources.declare_namespace('mpl_toolkits')`.\n",
            "Implementing implicit namespace packages (as specified in PEP 420) is preferred to `pkg_resources.declare_namespace`. See https://setuptools.pypa.io/en/latest/references/keywords.html#keyword-namespace-packages\n",
            "\n",
            "/usr/local/lib/python3.10/dist-packages/pip/_vendor/pkg_resources/__init__.py:2870: DeprecationWarning:\n",
            "\n",
            "Deprecated call to `pkg_resources.declare_namespace('sphinxcontrib')`.\n",
            "Implementing implicit namespace packages (as specified in PEP 420) is preferred to `pkg_resources.declare_namespace`. See https://setuptools.pypa.io/en/latest/references/keywords.html#keyword-namespace-packages\n",
            "\n",
            "/usr/lib/python3.10/pkgutil.py:92: UserWarning: viewer requires Qt\n",
            "/usr/local/lib/python3.10/dist-packages/sphinx/util/docutils.py:15: DeprecationWarning: The distutils package is deprecated and slated for removal in Python 3.12. Use setuptools or check PEP 632 for potential alternatives\n",
            "/usr/local/lib/python3.10/dist-packages/tensorboard/_vendor/html5lib/filters/sanitizer.py:29: DeprecationWarning: html5lib's sanitizer is deprecated; see https://github.com/html5lib/html5lib-python/issues/443 and please let us know if Bleach is unsuitable for your needs\n",
            "/usr/local/lib/python3.10/dist-packages/torch/distributed/_shard/checkpoint/__init__.py:8: DeprecationWarning: torch.distributed._shard.checkpoint will be deprecated, use torch.distributed.checkpoint instead\n",
            "/usr/local/lib/python3.10/dist-packages/torch/distributed/_sharded_tensor/__init__.py:8: DeprecationWarning: torch.distributed._sharded_tensor will be deprecated, use torch.distributed._shard.sharded_tensor instead\n",
            "/usr/local/lib/python3.10/dist-packages/torch/distributed/_sharding_spec/__init__.py:8: DeprecationWarning: torch.distributed._sharding_spec will be deprecated, use torch.distributed._shard.sharding_spec instead\n",
            "No CUDA runtime is found, using CUDA_HOME='/usr/local/cuda'\n",
            "/usr/local/lib/python3.10/dist-packages/torchvision/datapoints/__init__.py:12: UserWarning: The torchvision.datapoints and torchvision.transforms.v2 namespaces are still Beta. While we do not expect major breaking changes, some APIs may still change according to user feedback. Please submit any feedback you may have in this issue: https://github.com/pytorch/vision/issues/6753, and you can also check out https://github.com/pytorch/vision/issues/7319 to learn more about the APIs that we suspect might involve future changes. You can silence this warning by calling torchvision.disable_beta_transforms_warning().\n",
            "/usr/local/lib/python3.10/dist-packages/torchvision/transforms/v2/__init__.py:54: UserWarning: The torchvision.datapoints and torchvision.transforms.v2 namespaces are still Beta. While we do not expect major breaking changes, some APIs may still change according to user feedback. Please submit any feedback you may have in this issue: https://github.com/pytorch/vision/issues/6753, and you can also check out https://github.com/pytorch/vision/issues/7319 to learn more about the APIs that we suspect might involve future changes. You can silence this warning by calling torchvision.disable_beta_transforms_warning().\n",
            "/usr/lib/python3.10/pkgutil.py:107: VisibleDeprecationWarning: zmq.eventloop.minitornado is deprecated in pyzmq 14.0 and will be removed.\n",
            "    Install tornado itself to use zmq with the tornado IOLoop.\n",
            "    \n"
          ]
        },
        {
          "output_type": "stream",
          "name": "stdout",
          "text": [
            "Cython              colorcet            lazy_loader         rlcompleter\n",
            "IPython             colorlover          lib2to3             rmagic\n",
            "OpenGL              colorsys            libfuturize         rpy2\n",
            "PIL                 community           libpasteurize       rsa\n",
            "__future__          compileall          librosa             runpy\n",
            "_abc                concurrent          lightgbm            sched\n",
            "_aix_support        confection          linecache           scipy\n",
            "_argon2_cffi_bindings configparser        lit                 scs\n",
            "_ast                cons                llvmlite            seaborn\n",
            "_asyncio            contextlib          locale              secrets\n",
            "_bisect             contextlib2         locket              select\n",
            "_blake2             contextvars         logging             selectors\n",
            "_bootsubprocess     contourpy           lsb_release         send2trash\n",
            "_bz2                convertdate         lunarcalendar       setuptools\n",
            "_cffi_backend       copy                lxml                shapely\n",
            "_codecs             copyreg             lzma                shelve\n",
            "_codecs_cn          cpuinfo             mailbox             shlex\n",
            "_codecs_hk          crypt               mailcap             shutil\n",
            "_codecs_iso2022     cryptography        markdown            signal\n",
            "_codecs_jp          csv                 markdown_it         site\n",
            "_codecs_kr          ctypes              markupsafe          sitecustomize\n",
            "_codecs_tw          cufflinks           marshal             six\n",
            "_collections        curses              math                skimage\n",
            "_collections_abc    cv2                 matplotlib          sklearn\n",
            "_compat_pickle      cvxopt              matplotlib_inline   sklearn_pandas\n",
            "_compression        cvxpy               matplotlib_venn     slugify\n",
            "_contextvars        cycler              mdurl               smart_open\n",
            "_crypt              cymem               mimetypes           smtpd\n",
            "_csv                cython              missingno           smtplib\n",
            "_ctypes             cythonmagic         mistune             sndhdr\n",
            "_ctypes_test        dask                mizani              sniffio\n",
            "_curses             dataclasses         ml_dtypes           snowballstemmer\n",
            "_curses_panel       datascience         mlxtend             socket\n",
            "_cvxcore            datetime            mmap                socketserver\n",
            "_datetime           dateutil            modulefinder        socks\n",
            "_dbm                db_dtypes           more_itertools      sockshandler\n",
            "_decimal            dbm                 moviepy             softwareproperties\n",
            "_distutils_hack     dbus                mpmath              sortedcontainers\n",
            "_dlib_pybind11      debugpy             msgpack             soundfile\n",
            "_ecos               decimal             multipledispatch    soupsieve\n",
            "_elementtree        decorator           multiprocessing     soxr\n",
            "_functools          defusedxml          multitasking        spacy\n",
            "_hashlib            difflib             murmurhash          spacy_legacy\n",
            "_heapq              dis                 music21             spacy_loggers\n",
            "_imp                distributed         natsort             sphinx\n",
            "_io                 distutils           nbclient            spwd\n",
            "_json               dlib                nbconvert           sql\n",
            "_locale             doctest             nbformat            sqlalchemy\n",
            "_lsprof             docutils            nest_asyncio        sqlite3\n",
            "_lzma               dopamine            netrc               sqlparse\n",
            "_markupbase         dot_parser          networkx            sre_compile\n",
            "_md5                duckdb              nibabel             sre_constants\n",
            "_multibytecodec     duckdb_query_graph  nis                 sre_parse\n",
            "_multiprocessing    easydict            nisext              srsly\n",
            "_opcode             ecos                nltk                ssl\n",
            "_operator           editdistance        nntplib             stat\n",
            "_osx_support        ee                  notebook            statistics\n",
            "_pickle             email               ntpath              statsmodels\n",
            "_plotly_future_     en_core_web_sm      nturl2path          storemagic\n",
            "_plotly_utils       encodings           numba               string\n",
            "_posixshmem         entrypoints         numbergen           stringprep\n",
            "_posixsubprocess    enum                numbers             struct\n",
            "_py_abc             ephem               numexpr             subprocess\n",
            "_pydecimal          erfa                numpy               sunau\n",
            "_pyio               errno               nvfuser             sympy\n",
            "_pyrsistent_version et_xmlfile          oauth2client        sympyprinting\n",
            "_pytest             etils               oauthlib            symtable\n",
            "_queue              etuples             opcode              sys\n",
            "_random             exceptiongroup      openpyxl            sysconfig\n",
            "_rinterface_cffi_abi fastai              operator            syslog\n",
            "_rinterface_cffi_api fastcore            opt_einsum          tables\n",
            "_scs_direct         fastdownload        optax               tabnanny\n",
            "_scs_indirect       fastjsonschema      optparse            tabulate\n",
            "_sha1               fastprogress        os                  tarfile\n",
            "_sha256             fastrlock           osgeo               tblib\n",
            "_sha3               faulthandler        osgeo_utils         telnetlib\n",
            "_sha512             fcntl               osqp                tempfile\n",
            "_signal             filecmp             osqppurepy          tenacity\n",
            "_sitebuiltins       fileinput           ossaudiodev         tensorboard\n",
            "_socket             filelock            packaging           tensorboard_data_server\n",
            "_soundfile          firebase_admin      palettable          tensorboard_plugin_wit\n",
            "_soundfile_data     flask               pandas              tensorflow\n",
            "_sqlite3            flatbuffers         pandas_datareader   tensorflow_datasets\n",
            "_sre                flax                pandas_gbq          tensorflow_estimator\n",
            "_ssl                fnmatch             pandocfilters       tensorflow_gcs_config\n",
            "_stat               folium              panel               tensorflow_hub\n",
            "_statistics         fontTools           param               tensorflow_io_gcs_filesystem\n",
            "_string             fractions           parso               tensorflow_metadata\n",
            "_strptime           frozendict          partd               tensorflow_probability\n",
            "_struct             fsspec              past                tensorstore\n",
            "_symtable           ftplib              pasta               termcolor\n",
            "_sysconfigdata__linux_x86_64-linux-gnu functools           pathlib             terminado\n",
            "_sysconfigdata__x86_64-linux-gnu functorch           pathy               termios\n",
            "_testbuffer         future              patsy               test\n",
            "_testcapi           gast                pdb                 tests\n",
            "_testclinic         gc                  pexpect             text_unidecode\n",
            "_testimportmultiple gdown               pickle              textblob\n",
            "_testinternalcapi   genericpath         pickleshare         textwrap\n",
            "_testmultiphase     gensim              pickletools         tf_slim\n",
            "_thread             geographiclib       pip                 thinc\n",
            "_threading_local    geopy               pipes               this\n",
            "_tkinter            getopt              piptools            threading\n",
            "_tracemalloc        getpass             pkg_resources       threadpoolctl\n",
            "_uuid               gettext             pkgutil             tifffile\n",
            "_warnings           gi                  platform            time\n",
            "_weakref            gin                 platformdirs        timeit\n",
            "_weakrefset         glob                plistlib            tinycss2\n",
            "_xxsubinterpreters  glob2               plotly              tkinter\n",
            "_xxtestfuzz         google_auth_httplib2 plotnine            tlz\n",
            "_yaml               google_auth_oauthlib pluggy              token\n",
            "_zoneinfo           google_crc32c       polars              tokenize\n",
            "abc                 google_drive_downloader pooch               toml\n",
            "absl                googleapiclient     poplib              tomli\n",
            "aifc                googlesearch        portpicker          toolz\n",
            "alabaster           graphlib            posix               torch\n",
            "albumentations      graphviz            posixpath           torchaudio\n",
            "altair              greenlet            pprint              torchdata\n",
            "antigravity         grp                 prefetch_generator  torchgen\n",
            "anyio               grpc                preshed             torchsummary\n",
            "apiclient           grpc_status         prettytable         torchtext\n",
            "appdirs             gspread             profile             torchvision\n",
            "apt                 gspread_dataframe   proglog             tornado\n",
            "apt_inst            gym                 progressbar         tqdm\n",
            "apt_pkg             gym_notices         prometheus_client   trace\n",
            "aptsources          gzip                promise             traceback\n",
            "argon2              h5netcdf            prompt_toolkit      tracemalloc\n",
            "argparse            h5py                prophet             traitlets\n",
            "array               hashlib             proto               tree\n",
            "array_record        heapq               pstats              triton\n",
            "arviz               hmac                psutil              tty\n",
            "ast                 holidays            psycopg2            turtle\n",
            "astropy             holoviews           pty                 tweepy\n",
            "astunparse          html                ptyprocess          typer\n",
            "asynchat            html5lib            pwd                 types\n",
            "asyncio             http                py                  typing\n",
            "asyncore            httpimport          py4j                typing_extensions\n",
            "atexit              httplib2            py_compile          tzdata\n",
            "attr                humanize            pyarrow             tzlocal\n",
            "attrs               hyperopt            pyasn1              unicodedata\n",
            "audioop             idna                pyasn1_modules      unification\n",
            "audioread           imageio             pyclbr              unittest\n",
            "autograd            imageio_ffmpeg      pycocotools         uritemplate\n",
            "autoreload          imagesize           pycparser           urllib\n",
            "babel               imaplib             pyct                urllib3\n",
            "backcall            imblearn            pydantic            uu\n",
            "base64              imgaug              pydata_google_auth  uuid\n",
            "bdb                 imghdr              pydoc               vega_datasets\n",
            "bin                 imp                 pydoc_data          venv\n",
            "binascii            importlib           pydot               warnings\n",
            "binhex              importlib_resources pydot_ng            wasabi\n",
            "bisect              imutils             pydotplus           wave\n",
            "bleach              inflect             pydrive             wcwidth\n",
            "blis                iniconfig           pyexpat             weakref\n",
            "blosc2              inspect             pygame              webbrowser\n",
            "bokeh               io                  pygments            webcolors\n",
            "boost               ipaddress           pygtkcompat         webencodings\n",
            "branca              ipykernel           pylab               websocket\n",
            "bs4                 ipykernel_launcher  pymc                werkzeug\n",
            "build               ipython_genutils    pymeeus             wheel\n",
            "builtins            ipywidgets          pymystem3           widgetsnbextension\n",
            "bz2                 isympy              pyparsing           wordcloud\n",
            "cProfile            itertools           pyproject_hooks     wrapt\n",
            "cachecontrol        itsdangerous        pyrsistent          wsgiref\n",
            "cached_property     jax                 pytensor            xarray\n",
            "cachetools          jaxlib              pytest              xarray_einstats\n",
            "calendar            jieba               python_utils        xdrlib\n",
            "catalogue           jinja2              pytz                xgboost\n",
            "certifi             joblib              pytz_deprecation_shim xlrd\n",
            "cffi                json                pyviz_comms         xml\n",
            "cgi                 jsonpickle          pywt                xmlrpc\n",
            "cgitb               jsonschema          pyximport           xxlimited\n",
            "chardet             jupyter             qdldl               xxlimited_35\n",
            "charset_normalizer  jupyter_client      qudida              xxsubtype\n",
            "chex                jupyter_console     queue               yaml\n",
            "chunk               jupyter_core        quopri              yellowbrick\n",
            "clang               jupyter_server      random              yfinance\n",
            "click               jupyterlab_plotly   re                  zict\n",
            "cloudpickle         jupyterlab_pygments readline            zipapp\n",
            "cmake               jupyterlab_widgets  regex               zipfile\n",
            "cmath               kaggle              reprlib             zipimport\n",
            "cmd                 kanren              requests            zipp\n",
            "cmdstanpy           keras               requests_oauthlib   zlib\n",
            "code                keyword             requests_unixsocket zmq\n",
            "codecs              kiwisolver          requirements        zoneinfo\n",
            "codeop              korean_lunar_calendar resource            \n",
            "collections         langcodes           rich                \n",
            "\n",
            "Enter any module name to get more help.  Or, type \"modules spam\" to search\n",
            "for modules whose name or summary contain the string \"spam\".\n",
            "\n"
          ]
        }
      ]
    },
    {
      "cell_type": "markdown",
      "source": [
        "Loops in Python"
      ],
      "metadata": {
        "id": "KuwZ00CjYdsp"
      }
    },
    {
      "cell_type": "code",
      "source": [
        "#printing a table using while loop\n",
        "\n",
        "number = int(input('Enter the number of which table you want: '))\n",
        "i = 1\n",
        "while i <= 10:\n",
        "  print(number, ' * ', i, ' = ', (number*i) )\n",
        "  i += 1\n"
      ],
      "metadata": {
        "colab": {
          "base_uri": "https://localhost:8080/"
        },
        "id": "kEO7uDrsYgSU",
        "outputId": "0b3355bd-d152-49d9-a6b9-0d22f7e916a8"
      },
      "execution_count": null,
      "outputs": [
        {
          "output_type": "stream",
          "name": "stdout",
          "text": [
            "Enter the number of which table you want: 25\n",
            "25  *  1  =  25\n",
            "25  *  2  =  50\n",
            "25  *  3  =  75\n",
            "25  *  4  =  100\n",
            "25  *  5  =  125\n",
            "25  *  6  =  150\n",
            "25  *  7  =  175\n",
            "25  *  8  =  200\n",
            "25  *  9  =  225\n",
            "25  *  10  =  250\n"
          ]
        }
      ]
    },
    {
      "cell_type": "markdown",
      "source": [
        "Jackpot game"
      ],
      "metadata": {
        "id": "16MFTYCkaO7U"
      }
    },
    {
      "cell_type": "code",
      "source": [
        "import random\n",
        "jackpot = random.randint(1,10)\n",
        "print(jackpot)\n",
        "while True:\n",
        "  number = int(input('Guess the number: '))\n",
        "  if number == jackpot:\n",
        "    print('You guessed right')\n",
        "    break\n",
        "  else:\n",
        "    print('you guessed wrong and try again: ')"
      ],
      "metadata": {
        "colab": {
          "base_uri": "https://localhost:8080/"
        },
        "id": "EA_DKcGoaQyI",
        "outputId": "c23eed02-542c-49e0-b618-bc10c329ed89"
      },
      "execution_count": null,
      "outputs": [
        {
          "output_type": "stream",
          "name": "stderr",
          "text": [
            "/usr/local/lib/python3.10/dist-packages/ipykernel/ipkernel.py:283: DeprecationWarning: `should_run_async` will not call `transform_cell` automatically in the future. Please pass the result to `transformed_cell` argument and any exception that happen during thetransform in `preprocessing_exc_tuple` in IPython 7.17 and above.\n"
          ]
        },
        {
          "output_type": "stream",
          "name": "stdout",
          "text": [
            "6\n",
            "Guess the number: 5\n",
            "you guessed wrong and try again: \n",
            "Guess the number: 6\n",
            "You guessed right\n"
          ]
        }
      ]
    },
    {
      "cell_type": "markdown",
      "source": [
        "For loop "
      ],
      "metadata": {
        "id": "iSrtGAgNcgKa"
      }
    },
    {
      "cell_type": "code",
      "source": [
        "for i in range(1,11,3):\n",
        "  print(i)"
      ],
      "metadata": {
        "colab": {
          "base_uri": "https://localhost:8080/"
        },
        "id": "gGXY2NYfcihq",
        "outputId": "3c79e606-6111-42cf-f782-a82737d986d6"
      },
      "execution_count": null,
      "outputs": [
        {
          "output_type": "stream",
          "name": "stdout",
          "text": [
            "1\n",
            "4\n",
            "7\n",
            "10\n"
          ]
        }
      ]
    },
    {
      "cell_type": "code",
      "source": [
        "for i in range(10,-1,-1):\n",
        "  print(i)"
      ],
      "metadata": {
        "colab": {
          "base_uri": "https://localhost:8080/"
        },
        "id": "e5Ho4R8Wcvas",
        "outputId": "b5242ca8-a2aa-4b93-fe47-60e7c563f61d"
      },
      "execution_count": null,
      "outputs": [
        {
          "output_type": "stream",
          "name": "stdout",
          "text": [
            "10\n",
            "9\n",
            "8\n",
            "7\n",
            "6\n",
            "5\n",
            "4\n",
            "3\n",
            "2\n",
            "1\n",
            "0\n"
          ]
        }
      ]
    },
    {
      "cell_type": "code",
      "source": [
        "word = 'Delhi'\n",
        "for i in range(len(word)-1,-1,-1):\n",
        "  print(word[i])"
      ],
      "metadata": {
        "colab": {
          "base_uri": "https://localhost:8080/"
        },
        "id": "T9DCBROvdNI8",
        "outputId": "1b8599fe-4091-48c8-ede0-ef55beb98687"
      },
      "execution_count": null,
      "outputs": [
        {
          "output_type": "stream",
          "name": "stdout",
          "text": [
            "i\n",
            "h\n",
            "l\n",
            "e\n",
            "D\n"
          ]
        }
      ]
    }
  ]
}